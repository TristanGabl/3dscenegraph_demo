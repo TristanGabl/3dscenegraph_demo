{
 "cells": [
  {
   "cell_type": "markdown",
   "metadata": {},
   "source": [
    "This script is from a google colab notebook on how to install mask2former"
   ]
  },
  {
   "cell_type": "code",
   "execution_count": 6,
   "metadata": {
    "colab": {
     "base_uri": "https://localhost:8080/"
    },
    "id": "aYA7XY70v9Xz",
    "outputId": "769dd0a8-d849-4424-8636-02c6b04cf4d5"
   },
   "outputs": [
    {
     "name": "stdout",
     "output_type": "stream",
     "text": [
      "torch:  2.2 ; cuda:  cu121\n",
      "nvcc: NVIDIA (R) Cuda compiler driver\n",
      "Copyright (c) 2005-2023 NVIDIA Corporation\n",
      "Built on Mon_Apr__3_17:16:06_PDT_2023\n",
      "Cuda compilation tools, release 12.1, V12.1.105\n",
      "Build cuda_12.1.r12.1/compiler.32688072_0\n"
     ]
    }
   ],
   "source": [
    "# Install detectron2\n",
    "import torch\n",
    "TORCH_VERSION = \".\".join(torch.__version__.split(\".\")[:2])\n",
    "CUDA_VERSION = torch.__version__.split(\"+\")[-1]\n",
    "print(\"torch: \", TORCH_VERSION, \"; cuda: \", CUDA_VERSION)\n",
    "!nvcc --version\n",
    "# Install detectron2 that matches the above pytorch version\n",
    "# See https://detectron2.readthedocs.io/tutorials/install.html for instructions"
   ]
  },
  {
   "cell_type": "code",
   "execution_count": 7,
   "metadata": {
    "colab": {
     "base_uri": "https://localhost:8080/"
    },
    "id": "7D6teGL90CoF",
    "outputId": "0e15e5c9-82a5-41a7-a8f7-5c43c4180e7e"
   },
   "outputs": [
    {
     "name": "stdout",
     "output_type": "stream",
     "text": [
      "Requirement already satisfied: pyyaml in ./.venv/lib/python3.10/site-packages (6.0.2)\n"
     ]
    },
    {
     "name": "stderr",
     "output_type": "stream",
     "text": [
      "/tmp/ipykernel_2113979/2921554742.py:2: DeprecationWarning: The distutils package is deprecated and slated for removal in Python 3.12. Use setuptools or check PEP 632 for potential alternatives\n",
      "  import sys, os, distutils.core\n"
     ]
    },
    {
     "name": "stdout",
     "output_type": "stream",
     "text": [
      "Collecting git+https://github.com/facebookresearch/detectron2.git\n",
      "  Cloning https://github.com/facebookresearch/detectron2.git to /tmp/pip-req-build-vbxcu2jo\n",
      "  Running command git clone --filter=blob:none --quiet https://github.com/facebookresearch/detectron2.git /tmp/pip-req-build-vbxcu2jo\n",
      "  Resolved https://github.com/facebookresearch/detectron2.git to commit 65184fc057d4fab080a98564f6b60fae0b94edc4\n",
      "  Preparing metadata (setup.py) ... \u001b[?25ldone\n",
      "\u001b[?25hRequirement already satisfied: Pillow>=7.1 in ./.venv/lib/python3.10/site-packages (from detectron2==0.6) (11.0.0)\n",
      "Requirement already satisfied: black in ./.venv/lib/python3.10/site-packages (from detectron2==0.6) (25.1.0)\n",
      "Requirement already satisfied: cloudpickle in ./.venv/lib/python3.10/site-packages (from detectron2==0.6) (3.1.1)\n",
      "Requirement already satisfied: fvcore<0.1.6,>=0.1.5 in ./.venv/lib/python3.10/site-packages (from detectron2==0.6) (0.1.5.post20221221)\n",
      "Requirement already satisfied: hydra-core>=1.1 in ./.venv/lib/python3.10/site-packages (from detectron2==0.6) (1.3.2)\n",
      "Requirement already satisfied: iopath<0.1.10,>=0.1.7 in ./.venv/lib/python3.10/site-packages (from detectron2==0.6) (0.1.9)\n",
      "Requirement already satisfied: matplotlib in ./.venv/lib/python3.10/site-packages (from detectron2==0.6) (3.10.3)\n",
      "Requirement already satisfied: omegaconf<2.4,>=2.1 in ./.venv/lib/python3.10/site-packages (from detectron2==0.6) (2.3.0)\n",
      "Requirement already satisfied: packaging in ./.venv/lib/python3.10/site-packages (from detectron2==0.6) (25.0)\n",
      "Requirement already satisfied: pycocotools>=2.0.2 in ./.venv/lib/python3.10/site-packages (from detectron2==0.6) (2.0.9)\n",
      "Requirement already satisfied: tabulate in ./.venv/lib/python3.10/site-packages (from detectron2==0.6) (0.9.0)\n",
      "Requirement already satisfied: tensorboard in ./.venv/lib/python3.10/site-packages (from detectron2==0.6) (2.19.0)\n",
      "Requirement already satisfied: termcolor>=1.1 in ./.venv/lib/python3.10/site-packages (from detectron2==0.6) (3.1.0)\n",
      "Requirement already satisfied: tqdm>4.29.0 in ./.venv/lib/python3.10/site-packages (from detectron2==0.6) (4.67.1)\n",
      "Requirement already satisfied: yacs>=0.1.8 in ./.venv/lib/python3.10/site-packages (from detectron2==0.6) (0.1.8)\n",
      "Requirement already satisfied: pyyaml>=5.1 in ./.venv/lib/python3.10/site-packages (from fvcore<0.1.6,>=0.1.5->detectron2==0.6) (6.0.2)\n",
      "Requirement already satisfied: numpy in ./.venv/lib/python3.10/site-packages (from fvcore<0.1.6,>=0.1.5->detectron2==0.6) (2.1.2)\n",
      "Requirement already satisfied: antlr4-python3-runtime==4.9.* in ./.venv/lib/python3.10/site-packages (from hydra-core>=1.1->detectron2==0.6) (4.9.3)\n",
      "Requirement already satisfied: portalocker in ./.venv/lib/python3.10/site-packages (from iopath<0.1.10,>=0.1.7->detectron2==0.6) (3.1.1)\n",
      "Requirement already satisfied: typing-extensions>=4.0.1 in ./.venv/lib/python3.10/site-packages (from black->detectron2==0.6) (4.13.2)\n",
      "Requirement already satisfied: click>=8.0.0 in ./.venv/lib/python3.10/site-packages (from black->detectron2==0.6) (8.2.1)\n",
      "Requirement already satisfied: pathspec>=0.9.0 in ./.venv/lib/python3.10/site-packages (from black->detectron2==0.6) (0.12.1)\n",
      "Requirement already satisfied: tomli>=1.1.0 in ./.venv/lib/python3.10/site-packages (from black->detectron2==0.6) (2.2.1)\n",
      "Requirement already satisfied: platformdirs>=2 in ./.venv/lib/python3.10/site-packages (from black->detectron2==0.6) (4.3.8)\n",
      "Requirement already satisfied: mypy-extensions>=0.4.3 in ./.venv/lib/python3.10/site-packages (from black->detectron2==0.6) (1.1.0)\n",
      "Requirement already satisfied: python-dateutil>=2.7 in ./.venv/lib/python3.10/site-packages (from matplotlib->detectron2==0.6) (2.9.0.post0)\n",
      "Requirement already satisfied: cycler>=0.10 in ./.venv/lib/python3.10/site-packages (from matplotlib->detectron2==0.6) (0.12.1)\n",
      "Requirement already satisfied: pyparsing>=2.3.1 in ./.venv/lib/python3.10/site-packages (from matplotlib->detectron2==0.6) (3.2.3)\n",
      "Requirement already satisfied: fonttools>=4.22.0 in ./.venv/lib/python3.10/site-packages (from matplotlib->detectron2==0.6) (4.58.1)\n",
      "Requirement already satisfied: kiwisolver>=1.3.1 in ./.venv/lib/python3.10/site-packages (from matplotlib->detectron2==0.6) (1.4.8)\n",
      "Requirement already satisfied: contourpy>=1.0.1 in ./.venv/lib/python3.10/site-packages (from matplotlib->detectron2==0.6) (1.3.2)\n",
      "Requirement already satisfied: grpcio>=1.48.2 in ./.venv/lib/python3.10/site-packages (from tensorboard->detectron2==0.6) (1.71.0)\n",
      "Requirement already satisfied: werkzeug>=1.0.1 in ./.venv/lib/python3.10/site-packages (from tensorboard->detectron2==0.6) (3.1.3)\n",
      "Requirement already satisfied: tensorboard-data-server<0.8.0,>=0.7.0 in ./.venv/lib/python3.10/site-packages (from tensorboard->detectron2==0.6) (0.7.2)\n",
      "Requirement already satisfied: absl-py>=0.4 in ./.venv/lib/python3.10/site-packages (from tensorboard->detectron2==0.6) (2.3.0)\n",
      "Requirement already satisfied: protobuf!=4.24.0,>=3.19.6 in ./.venv/lib/python3.10/site-packages (from tensorboard->detectron2==0.6) (6.31.1)\n",
      "Requirement already satisfied: six>1.9 in ./.venv/lib/python3.10/site-packages (from tensorboard->detectron2==0.6) (1.17.0)\n",
      "Requirement already satisfied: setuptools>=41.0.0 in ./.venv/lib/python3.10/site-packages (from tensorboard->detectron2==0.6) (59.6.0)\n",
      "Requirement already satisfied: markdown>=2.6.8 in ./.venv/lib/python3.10/site-packages (from tensorboard->detectron2==0.6) (3.8)\n",
      "Requirement already satisfied: MarkupSafe>=2.1.1 in ./.venv/lib/python3.10/site-packages (from werkzeug>=1.0.1->tensorboard->detectron2==0.6) (2.1.5)\n"
     ]
    }
   ],
   "source": [
    "!python -m pip install pyyaml\n",
    "import sys, os, distutils.core\n",
    "# Note: This is a faster way to install detectron2 in Colab, but it does not include all functionalities (e.g. compiled operators).\n",
    "# See https://detectron2.readthedocs.io/tutorials/install.html for full installation instructions\n",
    "#!rm -r detectron2\n",
    "#!git clone 'https://github.com/facebookresearch/detectron2'\n",
    "#dist = distutils.core.run_setup(\"./detectron2/setup.py\")\n",
    "#!python -m pip install {' '.join([f\"'{x}'\" for x in dist.install_requires])}\n",
    "#sys.path.insert(0, os.path.abspath('./detectron2'))\n",
    "\n",
    "\n",
    "!python -m pip install 'git+https://github.com/facebookresearch/detectron2.git'"
   ]
  },
  {
   "cell_type": "code",
   "execution_count": 8,
   "metadata": {
    "colab": {
     "base_uri": "https://localhost:8080/"
    },
    "id": "-tV2c79-5s8n",
    "outputId": "ef0fdace-de87-449d-97df-f3c645e6313b"
   },
   "outputs": [
    {
     "name": "stdout",
     "output_type": "stream",
     "text": [
      "nvcc: NVIDIA (R) Cuda compiler driver\n",
      "Copyright (c) 2005-2023 NVIDIA Corporation\n",
      "Built on Mon_Apr__3_17:16:06_PDT_2023\n",
      "Cuda compilation tools, release 12.1, V12.1.105\n",
      "Build cuda_12.1.r12.1/compiler.32688072_0\n",
      "torch:  2.2 ; cuda:  cu121\n",
      "detectron2: 0.6\n"
     ]
    }
   ],
   "source": [
    "import torch, detectron2\n",
    "!nvcc --version\n",
    "TORCH_VERSION = \".\".join(torch.__version__.split(\".\")[:2])\n",
    "CUDA_VERSION = torch.__version__.split(\"+\")[-1]\n",
    "print(\"torch: \", TORCH_VERSION, \"; cuda: \", CUDA_VERSION)\n",
    "print(\"detectron2:\", detectron2.__version__)"
   ]
  },
  {
   "cell_type": "code",
   "execution_count": 9,
   "metadata": {
    "colab": {
     "base_uri": "https://localhost:8080/"
    },
    "collapsed": true,
    "id": "YwZHrkNC57H8",
    "outputId": "5e87f9fa-2e2f-4090-d550-1d3b236d0c99"
   },
   "outputs": [
    {
     "name": "stdout",
     "output_type": "stream",
     "text": [
      "fatal: destination path 'Mask2Former' already exists and is not an empty directory.\n",
      "/home/tristan/3dscenegraph_demo/Mask2Former\n"
     ]
    },
    {
     "name": "stderr",
     "output_type": "stream",
     "text": [
      "/home/tristan/3dscenegraph_demo/.venv/lib/python3.10/site-packages/IPython/core/magics/osm.py:417: UserWarning: This is now an optional IPython functionality, setting dhist requires you to install the `pickleshare` library.\n",
      "  self.shell.db['dhist'] = compress_dhist(dhist)[-100:]\n"
     ]
    },
    {
     "name": "stdout",
     "output_type": "stream",
     "text": [
      "Requirement already satisfied: opencv-python in /home/tristan/3dscenegraph_demo/.venv/lib/python3.10/site-packages (4.11.0.86)\n",
      "Requirement already satisfied: numpy>=1.17.3 in /home/tristan/3dscenegraph_demo/.venv/lib/python3.10/site-packages (from opencv-python) (2.1.2)\n",
      "Collecting git+https://github.com/cocodataset/panopticapi.git\n",
      "  Cloning https://github.com/cocodataset/panopticapi.git to /tmp/pip-req-build-8ocyw4yz\n",
      "  Running command git clone --filter=blob:none --quiet https://github.com/cocodataset/panopticapi.git /tmp/pip-req-build-8ocyw4yz\n",
      "  Resolved https://github.com/cocodataset/panopticapi.git to commit 7bb4655548f98f3fedc07bf37e9040a992b054b0\n",
      "  Preparing metadata (setup.py) ... \u001b[?25ldone\n",
      "\u001b[?25hRequirement already satisfied: Pillow in /home/tristan/3dscenegraph_demo/.venv/lib/python3.10/site-packages (from panopticapi==0.1) (11.0.0)\n",
      "Requirement already satisfied: numpy in /home/tristan/3dscenegraph_demo/.venv/lib/python3.10/site-packages (from panopticapi==0.1) (2.1.2)\n",
      "Requirement already satisfied: cython in /home/tristan/3dscenegraph_demo/.venv/lib/python3.10/site-packages (from -r requirements.txt (line 1)) (3.1.1)\n",
      "Requirement already satisfied: scipy in /home/tristan/3dscenegraph_demo/.venv/lib/python3.10/site-packages (from -r requirements.txt (line 2)) (1.15.3)\n",
      "Requirement already satisfied: shapely in /home/tristan/3dscenegraph_demo/.venv/lib/python3.10/site-packages (from -r requirements.txt (line 3)) (2.1.1)\n",
      "Requirement already satisfied: timm in /home/tristan/3dscenegraph_demo/.venv/lib/python3.10/site-packages (from -r requirements.txt (line 4)) (1.0.15)\n",
      "Requirement already satisfied: h5py in /home/tristan/3dscenegraph_demo/.venv/lib/python3.10/site-packages (from -r requirements.txt (line 5)) (3.13.0)\n",
      "Requirement already satisfied: submitit in /home/tristan/3dscenegraph_demo/.venv/lib/python3.10/site-packages (from -r requirements.txt (line 6)) (1.5.3)\n",
      "Requirement already satisfied: scikit-image in /home/tristan/3dscenegraph_demo/.venv/lib/python3.10/site-packages (from -r requirements.txt (line 7)) (0.25.2)\n",
      "Requirement already satisfied: numpy<2.5,>=1.23.5 in /home/tristan/3dscenegraph_demo/.venv/lib/python3.10/site-packages (from scipy->-r requirements.txt (line 2)) (2.1.2)\n",
      "Requirement already satisfied: safetensors in /home/tristan/3dscenegraph_demo/.venv/lib/python3.10/site-packages (from timm->-r requirements.txt (line 4)) (0.5.3)\n",
      "Requirement already satisfied: torch in /home/tristan/3dscenegraph_demo/.venv/lib/python3.10/site-packages (from timm->-r requirements.txt (line 4)) (2.2.0+cu121)\n",
      "Requirement already satisfied: torchvision in /home/tristan/3dscenegraph_demo/.venv/lib/python3.10/site-packages (from timm->-r requirements.txt (line 4)) (0.17.0+cu121)\n",
      "Requirement already satisfied: pyyaml in /home/tristan/3dscenegraph_demo/.venv/lib/python3.10/site-packages (from timm->-r requirements.txt (line 4)) (6.0.2)\n",
      "Requirement already satisfied: huggingface_hub in /home/tristan/3dscenegraph_demo/.venv/lib/python3.10/site-packages (from timm->-r requirements.txt (line 4)) (0.32.3)\n",
      "Requirement already satisfied: cloudpickle>=1.2.1 in /home/tristan/3dscenegraph_demo/.venv/lib/python3.10/site-packages (from submitit->-r requirements.txt (line 6)) (3.1.1)\n",
      "Requirement already satisfied: typing_extensions>=3.7.4.2 in /home/tristan/3dscenegraph_demo/.venv/lib/python3.10/site-packages (from submitit->-r requirements.txt (line 6)) (4.13.2)\n",
      "Requirement already satisfied: networkx>=3.0 in /home/tristan/3dscenegraph_demo/.venv/lib/python3.10/site-packages (from scikit-image->-r requirements.txt (line 7)) (3.3)\n",
      "Requirement already satisfied: lazy-loader>=0.4 in /home/tristan/3dscenegraph_demo/.venv/lib/python3.10/site-packages (from scikit-image->-r requirements.txt (line 7)) (0.4)\n",
      "Requirement already satisfied: tifffile>=2022.8.12 in /home/tristan/3dscenegraph_demo/.venv/lib/python3.10/site-packages (from scikit-image->-r requirements.txt (line 7)) (2025.5.10)\n",
      "Requirement already satisfied: packaging>=21 in /home/tristan/3dscenegraph_demo/.venv/lib/python3.10/site-packages (from scikit-image->-r requirements.txt (line 7)) (25.0)\n",
      "Requirement already satisfied: pillow>=10.1 in /home/tristan/3dscenegraph_demo/.venv/lib/python3.10/site-packages (from scikit-image->-r requirements.txt (line 7)) (11.0.0)\n",
      "Requirement already satisfied: imageio!=2.35.0,>=2.33 in /home/tristan/3dscenegraph_demo/.venv/lib/python3.10/site-packages (from scikit-image->-r requirements.txt (line 7)) (2.37.0)\n",
      "Requirement already satisfied: requests in /home/tristan/3dscenegraph_demo/.venv/lib/python3.10/site-packages (from huggingface_hub->timm->-r requirements.txt (line 4)) (2.28.1)\n",
      "Requirement already satisfied: filelock in /home/tristan/3dscenegraph_demo/.venv/lib/python3.10/site-packages (from huggingface_hub->timm->-r requirements.txt (line 4)) (3.13.1)\n",
      "Requirement already satisfied: fsspec>=2023.5.0 in /home/tristan/3dscenegraph_demo/.venv/lib/python3.10/site-packages (from huggingface_hub->timm->-r requirements.txt (line 4)) (2024.6.1)\n",
      "Requirement already satisfied: hf-xet<2.0.0,>=1.1.2 in /home/tristan/3dscenegraph_demo/.venv/lib/python3.10/site-packages (from huggingface_hub->timm->-r requirements.txt (line 4)) (1.1.2)\n",
      "Requirement already satisfied: tqdm>=4.42.1 in /home/tristan/3dscenegraph_demo/.venv/lib/python3.10/site-packages (from huggingface_hub->timm->-r requirements.txt (line 4)) (4.67.1)\n",
      "Requirement already satisfied: nvidia-nvtx-cu12==12.1.105 in /home/tristan/3dscenegraph_demo/.venv/lib/python3.10/site-packages (from torch->timm->-r requirements.txt (line 4)) (12.1.105)\n",
      "Requirement already satisfied: nvidia-nccl-cu12==2.19.3 in /home/tristan/3dscenegraph_demo/.venv/lib/python3.10/site-packages (from torch->timm->-r requirements.txt (line 4)) (2.19.3)\n",
      "Requirement already satisfied: jinja2 in /home/tristan/3dscenegraph_demo/.venv/lib/python3.10/site-packages (from torch->timm->-r requirements.txt (line 4)) (3.1.4)\n",
      "Requirement already satisfied: nvidia-cuda-runtime-cu12==12.1.105 in /home/tristan/3dscenegraph_demo/.venv/lib/python3.10/site-packages (from torch->timm->-r requirements.txt (line 4)) (12.1.105)\n",
      "Requirement already satisfied: sympy in /home/tristan/3dscenegraph_demo/.venv/lib/python3.10/site-packages (from torch->timm->-r requirements.txt (line 4)) (1.13.3)\n",
      "Requirement already satisfied: triton==2.2.0 in /home/tristan/3dscenegraph_demo/.venv/lib/python3.10/site-packages (from torch->timm->-r requirements.txt (line 4)) (2.2.0)\n",
      "Requirement already satisfied: nvidia-curand-cu12==10.3.2.106 in /home/tristan/3dscenegraph_demo/.venv/lib/python3.10/site-packages (from torch->timm->-r requirements.txt (line 4)) (10.3.2.106)\n",
      "Requirement already satisfied: nvidia-cudnn-cu12==8.9.2.26 in /home/tristan/3dscenegraph_demo/.venv/lib/python3.10/site-packages (from torch->timm->-r requirements.txt (line 4)) (8.9.2.26)\n",
      "Requirement already satisfied: nvidia-cusparse-cu12==12.1.0.106 in /home/tristan/3dscenegraph_demo/.venv/lib/python3.10/site-packages (from torch->timm->-r requirements.txt (line 4)) (12.1.0.106)\n",
      "Requirement already satisfied: nvidia-cuda-nvrtc-cu12==12.1.105 in /home/tristan/3dscenegraph_demo/.venv/lib/python3.10/site-packages (from torch->timm->-r requirements.txt (line 4)) (12.1.105)\n",
      "Requirement already satisfied: nvidia-cuda-cupti-cu12==12.1.105 in /home/tristan/3dscenegraph_demo/.venv/lib/python3.10/site-packages (from torch->timm->-r requirements.txt (line 4)) (12.1.105)\n",
      "Requirement already satisfied: nvidia-cusolver-cu12==11.4.5.107 in /home/tristan/3dscenegraph_demo/.venv/lib/python3.10/site-packages (from torch->timm->-r requirements.txt (line 4)) (11.4.5.107)\n",
      "Requirement already satisfied: nvidia-cufft-cu12==11.0.2.54 in /home/tristan/3dscenegraph_demo/.venv/lib/python3.10/site-packages (from torch->timm->-r requirements.txt (line 4)) (11.0.2.54)\n",
      "Requirement already satisfied: nvidia-cublas-cu12==12.1.3.1 in /home/tristan/3dscenegraph_demo/.venv/lib/python3.10/site-packages (from torch->timm->-r requirements.txt (line 4)) (12.1.3.1)\n",
      "Requirement already satisfied: nvidia-nvjitlink-cu12 in /home/tristan/3dscenegraph_demo/.venv/lib/python3.10/site-packages (from nvidia-cusolver-cu12==11.4.5.107->torch->timm->-r requirements.txt (line 4)) (12.1.105)\n",
      "Requirement already satisfied: MarkupSafe>=2.0 in /home/tristan/3dscenegraph_demo/.venv/lib/python3.10/site-packages (from jinja2->torch->timm->-r requirements.txt (line 4)) (2.1.5)\n",
      "Requirement already satisfied: idna<4,>=2.5 in /home/tristan/3dscenegraph_demo/.venv/lib/python3.10/site-packages (from requests->huggingface_hub->timm->-r requirements.txt (line 4)) (3.4)\n",
      "Requirement already satisfied: urllib3<1.27,>=1.21.1 in /home/tristan/3dscenegraph_demo/.venv/lib/python3.10/site-packages (from requests->huggingface_hub->timm->-r requirements.txt (line 4)) (1.26.13)\n",
      "Requirement already satisfied: charset-normalizer<3,>=2 in /home/tristan/3dscenegraph_demo/.venv/lib/python3.10/site-packages (from requests->huggingface_hub->timm->-r requirements.txt (line 4)) (2.1.1)\n",
      "Requirement already satisfied: certifi>=2017.4.17 in /home/tristan/3dscenegraph_demo/.venv/lib/python3.10/site-packages (from requests->huggingface_hub->timm->-r requirements.txt (line 4)) (2022.12.7)\n",
      "Requirement already satisfied: mpmath<1.4,>=1.1.0 in /home/tristan/3dscenegraph_demo/.venv/lib/python3.10/site-packages (from sympy->torch->timm->-r requirements.txt (line 4)) (1.3.0)\n"
     ]
    }
   ],
   "source": [
    "!git clone https://github.com/facebookresearch/Mask2Former.git\n",
    "%cd Mask2Former\n",
    "!pip install -U opencv-python\n",
    "!pip install git+https://github.com/cocodataset/panopticapi.git\n",
    "!pip install -r requirements.txt"
   ]
  },
  {
   "cell_type": "markdown",
   "metadata": {
    "id": "YubMd5I4Z5kc"
   },
   "source": []
  },
  {
   "cell_type": "code",
   "execution_count": 10,
   "metadata": {
    "colab": {
     "base_uri": "https://localhost:8080/"
    },
    "collapsed": true,
    "id": "U1p05xCG6BtJ",
    "outputId": "80a2f7bd-f168-4e8d-82d0-bca6b4762d12"
   },
   "outputs": [
    {
     "name": "stdout",
     "output_type": "stream",
     "text": [
      "/home/tristan/3dscenegraph_demo/Mask2Former/mask2former/modeling/pixel_decoder/ops\n"
     ]
    },
    {
     "name": "stdout",
     "output_type": "stream",
     "text": [
      "\n",
      "A module that was compiled using NumPy 1.x cannot be run in\n",
      "NumPy 2.1.2 as it may crash. To support both 1.x and 2.x\n",
      "versions of NumPy, modules must be compiled with NumPy 2.0.\n",
      "Some module may need to rebuild instead e.g. with 'pybind11>=2.12'.\n",
      "\n",
      "If you are a user of the module, the easiest solution will be to\n",
      "downgrade to 'numpy<2' or try to upgrade the affected module.\n",
      "We expect that some modules will need time to support NumPy 2.\n",
      "\n",
      "Traceback (most recent call last):  File \"/home/tristan/3dscenegraph_demo/Mask2Former/mask2former/modeling/pixel_decoder/ops/setup.py\", line 15, in <module>\n",
      "    import torch\n",
      "  File \"/home/tristan/3dscenegraph_demo/.venv/lib/python3.10/site-packages/torch/__init__.py\", line 1471, in <module>\n",
      "    from .functional import *  # noqa: F403\n",
      "  File \"/home/tristan/3dscenegraph_demo/.venv/lib/python3.10/site-packages/torch/functional.py\", line 9, in <module>\n",
      "    import torch.nn.functional as F\n",
      "  File \"/home/tristan/3dscenegraph_demo/.venv/lib/python3.10/site-packages/torch/nn/__init__.py\", line 1, in <module>\n",
      "    from .modules import *  # noqa: F403\n",
      "  File \"/home/tristan/3dscenegraph_demo/.venv/lib/python3.10/site-packages/torch/nn/modules/__init__.py\", line 35, in <module>\n",
      "    from .transformer import TransformerEncoder, TransformerDecoder, \\\n",
      "  File \"/home/tristan/3dscenegraph_demo/.venv/lib/python3.10/site-packages/torch/nn/modules/transformer.py\", line 20, in <module>\n",
      "    device: torch.device = torch.device(torch._C._get_default_device()),  # torch.device('cpu'),\n",
      "/home/tristan/3dscenegraph_demo/.venv/lib/python3.10/site-packages/torch/nn/modules/transformer.py:20: UserWarning: Failed to initialize NumPy: _ARRAY_API not found (Triggered internally at ../torch/csrc/utils/tensor_numpy.cpp:84.)\n",
      "  device: torch.device = torch.device(torch._C._get_default_device()),  # torch.device('cpu'),\n",
      "No CUDA runtime is found, using CUDA_HOME='/usr/local/cuda-12.1'\n",
      "Traceback (most recent call last):\n",
      "  File \"/home/tristan/3dscenegraph_demo/Mask2Former/mask2former/modeling/pixel_decoder/ops/setup.py\", line 76, in <module>\n",
      "    ext_modules=get_extensions(),\n",
      "  File \"/home/tristan/3dscenegraph_demo/Mask2Former/mask2former/modeling/pixel_decoder/ops/setup.py\", line 54, in get_extensions\n",
      "    raise NotImplementedError('No CUDA runtime is found. Please set FORCE_CUDA=1 or test it by running torch.cuda.is_available().')\n",
      "NotImplementedError: No CUDA runtime is found. Please set FORCE_CUDA=1 or test it by running torch.cuda.is_available().\n",
      "/home/tristan/3dscenegraph_demo/Mask2Former\n"
     ]
    }
   ],
   "source": [
    "%cd mask2former/modeling/pixel_decoder/ops\n",
    "!sh make.sh\n",
    "%cd ../../../../"
   ]
  },
  {
   "cell_type": "code",
   "execution_count": 1,
   "metadata": {
    "colab": {
     "base_uri": "https://localhost:8080/"
    },
    "id": "hQFgizfQ7K9l",
    "outputId": "2ad3678f-8cd5-4142-d24b-bc0ca5c93568"
   },
   "outputs": [
    {
     "name": "stderr",
     "output_type": "stream",
     "text": [
      "\n",
      "A module that was compiled using NumPy 1.x cannot be run in\n",
      "NumPy 2.1.2 as it may crash. To support both 1.x and 2.x\n",
      "versions of NumPy, modules must be compiled with NumPy 2.0.\n",
      "Some module may need to rebuild instead e.g. with 'pybind11>=2.12'.\n",
      "\n",
      "If you are a user of the module, the easiest solution will be to\n",
      "downgrade to 'numpy<2' or try to upgrade the affected module.\n",
      "We expect that some modules will need time to support NumPy 2.\n",
      "\n",
      "Traceback (most recent call last):  File \"/usr/lib/python3.10/runpy.py\", line 196, in _run_module_as_main\n",
      "    return _run_code(code, main_globals, None,\n",
      "  File \"/usr/lib/python3.10/runpy.py\", line 86, in _run_code\n",
      "    exec(code, run_globals)\n",
      "  File \"/home/tristan/3dscenegraph_demo/.venv/lib/python3.10/site-packages/ipykernel_launcher.py\", line 18, in <module>\n",
      "    app.launch_new_instance()\n",
      "  File \"/home/tristan/3dscenegraph_demo/.venv/lib/python3.10/site-packages/traitlets/config/application.py\", line 1075, in launch_instance\n",
      "    app.start()\n",
      "  File \"/home/tristan/3dscenegraph_demo/.venv/lib/python3.10/site-packages/ipykernel/kernelapp.py\", line 739, in start\n",
      "    self.io_loop.start()\n",
      "  File \"/home/tristan/3dscenegraph_demo/.venv/lib/python3.10/site-packages/tornado/platform/asyncio.py\", line 211, in start\n",
      "    self.asyncio_loop.run_forever()\n",
      "  File \"/usr/lib/python3.10/asyncio/base_events.py\", line 603, in run_forever\n",
      "    self._run_once()\n",
      "  File \"/usr/lib/python3.10/asyncio/base_events.py\", line 1909, in _run_once\n",
      "    handle._run()\n",
      "  File \"/usr/lib/python3.10/asyncio/events.py\", line 80, in _run\n",
      "    self._context.run(self._callback, *self._args)\n",
      "  File \"/home/tristan/3dscenegraph_demo/.venv/lib/python3.10/site-packages/ipykernel/kernelbase.py\", line 545, in dispatch_queue\n",
      "    await self.process_one()\n",
      "  File \"/home/tristan/3dscenegraph_demo/.venv/lib/python3.10/site-packages/ipykernel/kernelbase.py\", line 534, in process_one\n",
      "    await dispatch(*args)\n",
      "  File \"/home/tristan/3dscenegraph_demo/.venv/lib/python3.10/site-packages/ipykernel/kernelbase.py\", line 437, in dispatch_shell\n",
      "    await result\n",
      "  File \"/home/tristan/3dscenegraph_demo/.venv/lib/python3.10/site-packages/ipykernel/ipkernel.py\", line 362, in execute_request\n",
      "    await super().execute_request(stream, ident, parent)\n",
      "  File \"/home/tristan/3dscenegraph_demo/.venv/lib/python3.10/site-packages/ipykernel/kernelbase.py\", line 778, in execute_request\n",
      "    reply_content = await reply_content\n",
      "  File \"/home/tristan/3dscenegraph_demo/.venv/lib/python3.10/site-packages/ipykernel/ipkernel.py\", line 449, in do_execute\n",
      "    res = shell.run_cell(\n",
      "  File \"/home/tristan/3dscenegraph_demo/.venv/lib/python3.10/site-packages/ipykernel/zmqshell.py\", line 549, in run_cell\n",
      "    return super().run_cell(*args, **kwargs)\n",
      "  File \"/home/tristan/3dscenegraph_demo/.venv/lib/python3.10/site-packages/IPython/core/interactiveshell.py\", line 3077, in run_cell\n",
      "    result = self._run_cell(\n",
      "  File \"/home/tristan/3dscenegraph_demo/.venv/lib/python3.10/site-packages/IPython/core/interactiveshell.py\", line 3132, in _run_cell\n",
      "    result = runner(coro)\n",
      "  File \"/home/tristan/3dscenegraph_demo/.venv/lib/python3.10/site-packages/IPython/core/async_helpers.py\", line 128, in _pseudo_sync_runner\n",
      "    coro.send(None)\n",
      "  File \"/home/tristan/3dscenegraph_demo/.venv/lib/python3.10/site-packages/IPython/core/interactiveshell.py\", line 3336, in run_cell_async\n",
      "    has_raised = await self.run_ast_nodes(code_ast.body, cell_name,\n",
      "  File \"/home/tristan/3dscenegraph_demo/.venv/lib/python3.10/site-packages/IPython/core/interactiveshell.py\", line 3519, in run_ast_nodes\n",
      "    if await self.run_code(code, result, async_=asy):\n",
      "  File \"/home/tristan/3dscenegraph_demo/.venv/lib/python3.10/site-packages/IPython/core/interactiveshell.py\", line 3579, in run_code\n",
      "    exec(code_obj, self.user_global_ns, self.user_ns)\n",
      "  File \"/tmp/ipykernel_2114218/1510017468.py\", line 5, in <module>\n",
      "    import detectron2\n",
      "  File \"/home/tristan/3dscenegraph_demo/.venv/lib/python3.10/site-packages/detectron2/__init__.py\", line 3, in <module>\n",
      "    from .utils.env import setup_environment\n",
      "  File \"/home/tristan/3dscenegraph_demo/.venv/lib/python3.10/site-packages/detectron2/utils/env.py\", line 10, in <module>\n",
      "    import torch\n",
      "  File \"/home/tristan/3dscenegraph_demo/.venv/lib/python3.10/site-packages/torch/__init__.py\", line 1471, in <module>\n",
      "    from .functional import *  # noqa: F403\n",
      "  File \"/home/tristan/3dscenegraph_demo/.venv/lib/python3.10/site-packages/torch/functional.py\", line 9, in <module>\n",
      "    import torch.nn.functional as F\n",
      "  File \"/home/tristan/3dscenegraph_demo/.venv/lib/python3.10/site-packages/torch/nn/__init__.py\", line 1, in <module>\n",
      "    from .modules import *  # noqa: F403\n",
      "  File \"/home/tristan/3dscenegraph_demo/.venv/lib/python3.10/site-packages/torch/nn/modules/__init__.py\", line 35, in <module>\n",
      "    from .transformer import TransformerEncoder, TransformerDecoder, \\\n",
      "  File \"/home/tristan/3dscenegraph_demo/.venv/lib/python3.10/site-packages/torch/nn/modules/transformer.py\", line 20, in <module>\n",
      "    device: torch.device = torch.device(torch._C._get_default_device()),  # torch.device('cpu'),\n",
      "/home/tristan/3dscenegraph_demo/.venv/lib/python3.10/site-packages/torch/nn/modules/transformer.py:20: UserWarning: Failed to initialize NumPy: _ARRAY_API not found (Triggered internally at ../torch/csrc/utils/tensor_numpy.cpp:84.)\n",
      "  device: torch.device = torch.device(torch._C._get_default_device()),  # torch.device('cpu'),\n"
     ]
    },
    {
     "name": "stdout",
     "output_type": "stream",
     "text": [
      "Test\n"
     ]
    },
    {
     "ename": "ModuleNotFoundError",
     "evalue": "No module named 'MultiScaleDeformableAttention'",
     "output_type": "error",
     "traceback": [
      "\u001b[0;31m---------------------------------------------------------------------------\u001b[0m",
      "\u001b[0;31mModuleNotFoundError\u001b[0m                       Traceback (most recent call last)",
      "Cell \u001b[0;32mIn[1], line 27\u001b[0m\n\u001b[1;32m     23\u001b[0m coco_metadata \u001b[38;5;241m=\u001b[39m MetadataCatalog\u001b[38;5;241m.\u001b[39mget(\u001b[38;5;124m\"\u001b[39m\u001b[38;5;124mcoco_2017_val_panoptic\u001b[39m\u001b[38;5;124m\"\u001b[39m)\n\u001b[1;32m     25\u001b[0m \u001b[38;5;28mprint\u001b[39m(\u001b[38;5;124m\"\u001b[39m\u001b[38;5;124mTest\u001b[39m\u001b[38;5;124m\"\u001b[39m)\n\u001b[0;32m---> 27\u001b[0m \u001b[38;5;28;01mimport\u001b[39;00m\u001b[38;5;250m \u001b[39m\u001b[38;5;21;01mMultiScaleDeformableAttention\u001b[39;00m\u001b[38;5;250m \u001b[39m\u001b[38;5;28;01mas\u001b[39;00m\u001b[38;5;250m \u001b[39m\u001b[38;5;21;01mMSDA\u001b[39;00m\n\u001b[1;32m     28\u001b[0m \u001b[38;5;28;01mfrom\u001b[39;00m\u001b[38;5;250m \u001b[39m\u001b[38;5;21;01mdetectron2\u001b[39;00m\u001b[38;5;250m \u001b[39m\u001b[38;5;28;01mimport\u001b[39;00m _C\n\u001b[1;32m     30\u001b[0m \u001b[38;5;28mprint\u001b[39m(\u001b[38;5;124m\"\u001b[39m\u001b[38;5;124mTest2\u001b[39m\u001b[38;5;124m\"\u001b[39m)\n",
      "\u001b[0;31mModuleNotFoundError\u001b[0m: No module named 'MultiScaleDeformableAttention'"
     ]
    }
   ],
   "source": [
    "# You may need to restart your runtime prior to this, to let your installation take effect\n",
    "\n",
    "# Some basic setup:\n",
    "# Setup detectron2 logger\n",
    "import detectron2\n",
    "from detectron2.utils.logger import setup_logger\n",
    "setup_logger()\n",
    "setup_logger(name=\"mask2former\")\n",
    "\n",
    "# import some common libraries\n",
    "import numpy as np\n",
    "import cv2\n",
    "import torch\n",
    "# from google.colab.patches import cv2_imshow\n",
    "\n",
    "# import some common detectron2 utilities\n",
    "from detectron2 import model_zoo\n",
    "from detectron2.engine import DefaultPredictor\n",
    "from detectron2.config import get_cfg\n",
    "from detectron2.utils.visualizer import Visualizer, ColorMode\n",
    "from detectron2.data import MetadataCatalog\n",
    "from detectron2.projects.deeplab import add_deeplab_config\n",
    "coco_metadata = MetadataCatalog.get(\"coco_2017_val_panoptic\")\n",
    "\n",
    "print(\"Test\")\n",
    "\n",
    "import MultiScaleDeformableAttention as MSDA\n",
    "from detectron2 import _C\n",
    "\n",
    "print(\"Test2\")\n"
   ]
  },
  {
   "cell_type": "code",
   "execution_count": 3,
   "metadata": {},
   "outputs": [
    {
     "ename": "ModuleNotFoundError",
     "evalue": "No module named 'mask2former'",
     "output_type": "error",
     "traceback": [
      "\u001b[0;31m---------------------------------------------------------------------------\u001b[0m",
      "\u001b[0;31mModuleNotFoundError\u001b[0m                       Traceback (most recent call last)",
      "Cell \u001b[0;32mIn[3], line 1\u001b[0m\n\u001b[0;32m----> 1\u001b[0m \u001b[38;5;28;01mimport\u001b[39;00m\u001b[38;5;250m \u001b[39m\u001b[38;5;21;01mmask2former\u001b[39;00m\n",
      "\u001b[0;31mModuleNotFoundError\u001b[0m: No module named 'mask2former'"
     ]
    }
   ],
   "source": [
    "import mask2former"
   ]
  },
  {
   "cell_type": "code",
   "execution_count": 2,
   "metadata": {
    "id": "iHDJa5onjwf1"
   },
   "outputs": [
    {
     "name": "stdout",
     "output_type": "stream",
     "text": [
      "[Errno 2] No such file or directory: '/teamspace/studios/this_studio/Mask2Former'\n",
      "/home/tristan/3dscenegraph_demo\n"
     ]
    },
    {
     "ename": "ModuleNotFoundError",
     "evalue": "No module named 'mask2former'",
     "output_type": "error",
     "traceback": [
      "\u001b[0;31m---------------------------------------------------------------------------\u001b[0m",
      "\u001b[0;31mModuleNotFoundError\u001b[0m                       Traceback (most recent call last)",
      "Cell \u001b[0;32mIn[2], line 2\u001b[0m\n\u001b[1;32m      1\u001b[0m get_ipython()\u001b[38;5;241m.\u001b[39mrun_line_magic(\u001b[38;5;124m'\u001b[39m\u001b[38;5;124mcd\u001b[39m\u001b[38;5;124m'\u001b[39m, \u001b[38;5;124m'\u001b[39m\u001b[38;5;124m/teamspace/studios/this_studio/Mask2Former\u001b[39m\u001b[38;5;124m'\u001b[39m)\n\u001b[0;32m----> 2\u001b[0m \u001b[38;5;28;01mimport\u001b[39;00m\u001b[38;5;250m \u001b[39m\u001b[38;5;21;01mmask2former\u001b[39;00m\n",
      "\u001b[0;31mModuleNotFoundError\u001b[0m: No module named 'mask2former'"
     ]
    }
   ],
   "source": [
    "%cd /teamspace/studios/this_studio/Mask2Former\n",
    "import mask2former\n",
    "\n",
    "\n"
   ]
  },
  {
   "cell_type": "code",
   "execution_count": null,
   "metadata": {
    "colab": {
     "base_uri": "https://localhost:8080/",
     "height": 418
    },
    "id": "KXhPLYmelEdj",
    "outputId": "4982f4ad-144c-4306-c81d-f8092cd56365"
   },
   "outputs": [],
   "source": [
    "import torch\n",
    "import cv2\n",
    "import numpy as np\n",
    "import matplotlib.pyplot as plt\n",
    "from detectron2.engine import DefaultPredictor\n",
    "from detectron2.config import get_cfg\n",
    "from detectron2.model_zoo import get_config_file, get_checkpoint_url\n",
    "from detectron2.data import MetadataCatalog\n",
    "\n",
    "def setup_cfg():\n",
    "    cfg = get_cfg()\n",
    "    cfg.merge_from_file(get_config_file(\"COCO-InstanceSegmentation/mask2former_R50_bs16_50ep.yaml\"))\n",
    "    cfg.MODEL.WEIGHTS = get_checkpoint_url(\"COCO-InstanceSegmentation/mask2former_R50_bs16_50ep.yaml\")\n",
    "    cfg.MODEL.DEVICE = \"cuda\" if torch.cuda.is_available() else \"cpu\"\n",
    "    cfg.MODEL.MASK_FORMER.TEST.SEMANTIC_ON = True  # Enable semantic segmentation\n",
    "    cfg.MODEL.MASK_FORMER.TEST.INSTANCE_ON = False # Disable instance segmentation if not needed\n",
    "    cfg.MODEL.MASK_FORMER.TEST.PANOPTIC_ON = False # Disable panoptic segmentation if not needed\n",
    "    cfg.freeze()\n",
    "    return cfg\n",
    "\n",
    "def load_image(image_path):\n",
    "    image = cv2.imread(image_path)\n",
    "    return cv2.cvtColor(image, cv2.COLOR_BGR2RGB)\n",
    "\n",
    "def visualize_segmentation(image, outputs):\n",
    "    mask = outputs[\"sem_seg\"].argmax(dim=0).cpu().numpy()\n",
    "    unique_labels = np.unique(mask)\n",
    "    colored_mask = np.zeros((*mask.shape, 3), dtype=np.uint8)\n",
    "\n",
    "    for label in unique_labels:\n",
    "        color = np.random.randint(0, 255, size=3)\n",
    "        colored_mask[mask == label] = color\n",
    "\n",
    "    plt.figure(figsize=(10, 5))\n",
    "    plt.subplot(1, 2, 1)\n",
    "    plt.title(\"Original Image\")\n",
    "    plt.imshow(image)\n",
    "    plt.axis(\"off\")\n",
    "\n",
    "    plt.subplot(1, 2, 2)\n",
    "    plt.title(\"Mask2Former Segmentation\")\n",
    "    plt.imshow(colored_mask)\n",
    "    plt.axis(\"off\")\n",
    "    plt.show()\n",
    "\n",
    "def main():\n",
    "    # Set up the model configuration and load weights\n",
    "    %cd /content\n",
    "\n",
    "    cfg = setup_cfg()\n",
    "    predictor = DefaultPredictor(cfg)\n",
    "\n",
    "    # Load an example image\n",
    "    image_path = \"image.jpg\"  # Replace with your image path\n",
    "    image = load_image(image_path)\n",
    "\n",
    "    # Perform segmentation\n",
    "    outputs = predictor(image)\n",
    "\n",
    "    # Visualize the result\n",
    "    visualize_segmentation(image, outputs)\n",
    "\n",
    "if __name__ == \"__main__\":\n",
    "    main()"
   ]
  }
 ],
 "metadata": {
  "accelerator": "GPU",
  "colab": {
   "gpuType": "T4",
   "provenance": []
  },
  "kernelspec": {
   "display_name": ".venv",
   "language": "python",
   "name": "python3"
  },
  "language_info": {
   "codemirror_mode": {
    "name": "ipython",
    "version": 3
   },
   "file_extension": ".py",
   "mimetype": "text/x-python",
   "name": "python",
   "nbconvert_exporter": "python",
   "pygments_lexer": "ipython3",
   "version": "3.10.12"
  }
 },
 "nbformat": 4,
 "nbformat_minor": 0
}
